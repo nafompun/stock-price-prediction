{
 "cells": [
  {
   "cell_type": "markdown",
   "metadata": {},
   "source": [
    "## Stock prediction on Google stock using the Linear Regressor, Random Forest Regressor, Decision Tree Regressor, SVR Regressor and KNN Regressor.\n",
    "Stock price prediction has beeen one the complex problems in machine learning due to the relatively unstable nature of the movement of stock prices. In this project we will be exploring the five models mentioned above to determine which model best predict stock prices for the future."
   ]
  },
  {
   "cell_type": "markdown",
   "metadata": {},
   "source": [
    "## Importing Our Libraries and reading our data"
   ]
  },
  {
   "cell_type": "code",
   "execution_count": null,
   "metadata": {},
   "outputs": [],
   "source": [
    "import scipy as sp\n",
    "import pandas as pd\n",
    "import numpy as np\n",
    "from subprocess import check_output\n",
    "from keras.models import Sequential\n",
    "from keras.layers.core import Dense, Dropout, Activation\n",
    "from keras.layers.recurrent import LSTM\n",
    "\n",
    "import time, json\n",
    "from datetime import date\n",
    "\n",
    "import time\n",
    "import math\n",
    "import sklearn.preprocessing as prep\n",
    "import matplotlib.pylab as plt\n",
    "%matplotlib inline\n",
    "from matplotlib.pylab import rcParams"
   ]
  },
  {
   "cell_type": "code",
   "execution_count": 63,
   "metadata": {},
   "outputs": [
    {
     "data": {
      "text/html": [
       "<div>\n",
       "<style scoped>\n",
       "    .dataframe tbody tr th:only-of-type {\n",
       "        vertical-align: middle;\n",
       "    }\n",
       "\n",
       "    .dataframe tbody tr th {\n",
       "        vertical-align: top;\n",
       "    }\n",
       "\n",
       "    .dataframe thead th {\n",
       "        text-align: right;\n",
       "    }\n",
       "</style>\n",
       "<table border=\"1\" class=\"dataframe\">\n",
       "  <thead>\n",
       "    <tr style=\"text-align: right;\">\n",
       "      <th></th>\n",
       "      <th>Date</th>\n",
       "      <th>Open</th>\n",
       "      <th>High</th>\n",
       "      <th>Low</th>\n",
       "      <th>Close</th>\n",
       "      <th>Volume</th>\n",
       "      <th>Ex-Dividend</th>\n",
       "      <th>Split Ratio</th>\n",
       "      <th>Adj. Open</th>\n",
       "      <th>Adj. High</th>\n",
       "      <th>Adj. Low</th>\n",
       "      <th>Adj. Close</th>\n",
       "      <th>Adj. Volume</th>\n",
       "    </tr>\n",
       "  </thead>\n",
       "  <tbody>\n",
       "    <tr>\n",
       "      <th>0</th>\n",
       "      <td>2004-08-19</td>\n",
       "      <td>100.01</td>\n",
       "      <td>104.06</td>\n",
       "      <td>95.96</td>\n",
       "      <td>100.335</td>\n",
       "      <td>44659000.0</td>\n",
       "      <td>0.0</td>\n",
       "      <td>1.0</td>\n",
       "      <td>50.159839</td>\n",
       "      <td>52.191109</td>\n",
       "      <td>48.128568</td>\n",
       "      <td>50.322842</td>\n",
       "      <td>44659000.0</td>\n",
       "    </tr>\n",
       "    <tr>\n",
       "      <th>1</th>\n",
       "      <td>2004-08-20</td>\n",
       "      <td>101.01</td>\n",
       "      <td>109.08</td>\n",
       "      <td>100.50</td>\n",
       "      <td>108.310</td>\n",
       "      <td>22834300.0</td>\n",
       "      <td>0.0</td>\n",
       "      <td>1.0</td>\n",
       "      <td>50.661387</td>\n",
       "      <td>54.708881</td>\n",
       "      <td>50.405597</td>\n",
       "      <td>54.322689</td>\n",
       "      <td>22834300.0</td>\n",
       "    </tr>\n",
       "    <tr>\n",
       "      <th>2</th>\n",
       "      <td>2004-08-23</td>\n",
       "      <td>110.76</td>\n",
       "      <td>113.48</td>\n",
       "      <td>109.05</td>\n",
       "      <td>109.400</td>\n",
       "      <td>18256100.0</td>\n",
       "      <td>0.0</td>\n",
       "      <td>1.0</td>\n",
       "      <td>55.551482</td>\n",
       "      <td>56.915693</td>\n",
       "      <td>54.693835</td>\n",
       "      <td>54.869377</td>\n",
       "      <td>18256100.0</td>\n",
       "    </tr>\n",
       "    <tr>\n",
       "      <th>3</th>\n",
       "      <td>2004-08-24</td>\n",
       "      <td>111.24</td>\n",
       "      <td>111.60</td>\n",
       "      <td>103.57</td>\n",
       "      <td>104.870</td>\n",
       "      <td>15247300.0</td>\n",
       "      <td>0.0</td>\n",
       "      <td>1.0</td>\n",
       "      <td>55.792225</td>\n",
       "      <td>55.972783</td>\n",
       "      <td>51.945350</td>\n",
       "      <td>52.597363</td>\n",
       "      <td>15247300.0</td>\n",
       "    </tr>\n",
       "    <tr>\n",
       "      <th>4</th>\n",
       "      <td>2004-08-25</td>\n",
       "      <td>104.76</td>\n",
       "      <td>108.00</td>\n",
       "      <td>103.88</td>\n",
       "      <td>106.000</td>\n",
       "      <td>9188600.0</td>\n",
       "      <td>0.0</td>\n",
       "      <td>1.0</td>\n",
       "      <td>52.542193</td>\n",
       "      <td>54.167209</td>\n",
       "      <td>52.100830</td>\n",
       "      <td>53.164113</td>\n",
       "      <td>9188600.0</td>\n",
       "    </tr>\n",
       "  </tbody>\n",
       "</table>\n",
       "</div>"
      ],
      "text/plain": [
       "         Date    Open    High     Low    Close      Volume  Ex-Dividend  \\\n",
       "0  2004-08-19  100.01  104.06   95.96  100.335  44659000.0          0.0   \n",
       "1  2004-08-20  101.01  109.08  100.50  108.310  22834300.0          0.0   \n",
       "2  2004-08-23  110.76  113.48  109.05  109.400  18256100.0          0.0   \n",
       "3  2004-08-24  111.24  111.60  103.57  104.870  15247300.0          0.0   \n",
       "4  2004-08-25  104.76  108.00  103.88  106.000   9188600.0          0.0   \n",
       "\n",
       "   Split Ratio  Adj. Open  Adj. High   Adj. Low  Adj. Close  Adj. Volume  \n",
       "0          1.0  50.159839  52.191109  48.128568   50.322842   44659000.0  \n",
       "1          1.0  50.661387  54.708881  50.405597   54.322689   22834300.0  \n",
       "2          1.0  55.551482  56.915693  54.693835   54.869377   18256100.0  \n",
       "3          1.0  55.792225  55.972783  51.945350   52.597363   15247300.0  \n",
       "4          1.0  52.542193  54.167209  52.100830   53.164113    9188600.0  "
      ]
     },
     "execution_count": 63,
     "metadata": {},
     "output_type": "execute_result"
    }
   ],
   "source": [
    "##Reading our data\n",
    "df = pd.read_csv('Google.csv')\n",
    "df.head()"
   ]
  },
  {
   "cell_type": "code",
   "execution_count": 118,
   "metadata": {},
   "outputs": [
    {
     "data": {
      "text/plain": [
       "(3125, 13)"
      ]
     },
     "execution_count": 118,
     "metadata": {},
     "output_type": "execute_result"
    }
   ],
   "source": [
    "df.shape"
   ]
  },
  {
   "cell_type": "markdown",
   "metadata": {},
   "source": [
    "## Data Cleaning"
   ]
  },
  {
   "cell_type": "code",
   "execution_count": 64,
   "metadata": {},
   "outputs": [
    {
     "data": {
      "text/html": [
       "<div>\n",
       "<style scoped>\n",
       "    .dataframe tbody tr th:only-of-type {\n",
       "        vertical-align: middle;\n",
       "    }\n",
       "\n",
       "    .dataframe tbody tr th {\n",
       "        vertical-align: top;\n",
       "    }\n",
       "\n",
       "    .dataframe thead th {\n",
       "        text-align: right;\n",
       "    }\n",
       "</style>\n",
       "<table border=\"1\" class=\"dataframe\">\n",
       "  <thead>\n",
       "    <tr style=\"text-align: right;\">\n",
       "      <th></th>\n",
       "      <th>Date</th>\n",
       "      <th>Open</th>\n",
       "      <th>High</th>\n",
       "      <th>Low</th>\n",
       "      <th>Close</th>\n",
       "      <th>Volume</th>\n",
       "    </tr>\n",
       "  </thead>\n",
       "  <tbody>\n",
       "    <tr>\n",
       "      <th>0</th>\n",
       "      <td>2004-08-19</td>\n",
       "      <td>100.01</td>\n",
       "      <td>104.06</td>\n",
       "      <td>95.9600</td>\n",
       "      <td>100.335</td>\n",
       "      <td>44659000.0</td>\n",
       "    </tr>\n",
       "    <tr>\n",
       "      <th>1</th>\n",
       "      <td>2004-08-20</td>\n",
       "      <td>101.01</td>\n",
       "      <td>109.08</td>\n",
       "      <td>100.5000</td>\n",
       "      <td>108.310</td>\n",
       "      <td>22834300.0</td>\n",
       "    </tr>\n",
       "    <tr>\n",
       "      <th>2</th>\n",
       "      <td>2004-08-23</td>\n",
       "      <td>110.76</td>\n",
       "      <td>113.48</td>\n",
       "      <td>109.0500</td>\n",
       "      <td>109.400</td>\n",
       "      <td>18256100.0</td>\n",
       "    </tr>\n",
       "    <tr>\n",
       "      <th>3</th>\n",
       "      <td>2004-08-24</td>\n",
       "      <td>111.24</td>\n",
       "      <td>111.60</td>\n",
       "      <td>103.5700</td>\n",
       "      <td>104.870</td>\n",
       "      <td>15247300.0</td>\n",
       "    </tr>\n",
       "    <tr>\n",
       "      <th>4</th>\n",
       "      <td>2004-08-25</td>\n",
       "      <td>104.76</td>\n",
       "      <td>108.00</td>\n",
       "      <td>103.8800</td>\n",
       "      <td>106.000</td>\n",
       "      <td>9188600.0</td>\n",
       "    </tr>\n",
       "    <tr>\n",
       "      <th>...</th>\n",
       "      <td>...</td>\n",
       "      <td>...</td>\n",
       "      <td>...</td>\n",
       "      <td>...</td>\n",
       "      <td>...</td>\n",
       "      <td>...</td>\n",
       "    </tr>\n",
       "    <tr>\n",
       "      <th>3120</th>\n",
       "      <td>2017-01-10</td>\n",
       "      <td>827.07</td>\n",
       "      <td>829.41</td>\n",
       "      <td>823.1400</td>\n",
       "      <td>826.010</td>\n",
       "      <td>1141799.0</td>\n",
       "    </tr>\n",
       "    <tr>\n",
       "      <th>3121</th>\n",
       "      <td>2017-01-11</td>\n",
       "      <td>826.62</td>\n",
       "      <td>829.90</td>\n",
       "      <td>821.4700</td>\n",
       "      <td>829.860</td>\n",
       "      <td>1261666.0</td>\n",
       "    </tr>\n",
       "    <tr>\n",
       "      <th>3122</th>\n",
       "      <td>2017-01-12</td>\n",
       "      <td>828.38</td>\n",
       "      <td>830.38</td>\n",
       "      <td>821.0100</td>\n",
       "      <td>829.530</td>\n",
       "      <td>1348274.0</td>\n",
       "    </tr>\n",
       "    <tr>\n",
       "      <th>3123</th>\n",
       "      <td>2017-01-13</td>\n",
       "      <td>831.00</td>\n",
       "      <td>834.65</td>\n",
       "      <td>829.5200</td>\n",
       "      <td>830.940</td>\n",
       "      <td>1255255.0</td>\n",
       "    </tr>\n",
       "    <tr>\n",
       "      <th>3124</th>\n",
       "      <td>2017-01-17</td>\n",
       "      <td>830.00</td>\n",
       "      <td>830.18</td>\n",
       "      <td>823.2001</td>\n",
       "      <td>827.200</td>\n",
       "      <td>1242810.0</td>\n",
       "    </tr>\n",
       "  </tbody>\n",
       "</table>\n",
       "<p>3125 rows × 6 columns</p>\n",
       "</div>"
      ],
      "text/plain": [
       "            Date    Open    High       Low    Close      Volume\n",
       "0     2004-08-19  100.01  104.06   95.9600  100.335  44659000.0\n",
       "1     2004-08-20  101.01  109.08  100.5000  108.310  22834300.0\n",
       "2     2004-08-23  110.76  113.48  109.0500  109.400  18256100.0\n",
       "3     2004-08-24  111.24  111.60  103.5700  104.870  15247300.0\n",
       "4     2004-08-25  104.76  108.00  103.8800  106.000   9188600.0\n",
       "...          ...     ...     ...       ...      ...         ...\n",
       "3120  2017-01-10  827.07  829.41  823.1400  826.010   1141799.0\n",
       "3121  2017-01-11  826.62  829.90  821.4700  829.860   1261666.0\n",
       "3122  2017-01-12  828.38  830.38  821.0100  829.530   1348274.0\n",
       "3123  2017-01-13  831.00  834.65  829.5200  830.940   1255255.0\n",
       "3124  2017-01-17  830.00  830.18  823.2001  827.200   1242810.0\n",
       "\n",
       "[3125 rows x 6 columns]"
      ]
     },
     "execution_count": 64,
     "metadata": {},
     "output_type": "execute_result"
    }
   ],
   "source": [
    "##Filtering our data for only the columns we need\n",
    "google = df.filter([\"Date\",\"Open\", \"High\", \"Low\", \"Close\", \"Volume\"]) \n",
    "google"
   ]
  },
  {
   "cell_type": "markdown",
   "metadata": {},
   "source": [
    "## Data Preprocessing\n",
    "Here we are going to scale our data Using the Standard scaler in order to have better results when we apply our models. We will then proceec to convert our data into time series and split our scaled data into training and test sets."
   ]
  },
  {
   "cell_type": "code",
   "execution_count": 23,
   "metadata": {},
   "outputs": [],
   "source": [
    "from sklearn.preprocessing import StandardScaler,MinMaxScaler\n",
    "from sklearn.ensemble import RandomForestRegressor\n",
    "from sklearn.metrics import r2_score,mean_squared_error"
   ]
  },
  {
   "cell_type": "code",
   "execution_count": 65,
   "metadata": {},
   "outputs": [],
   "source": [
    "##Function created to convert our data into time series\n",
    "def create_dataset(dataset,past=1):\n",
    "    dataX, dataY = [], []\n",
    "    for i in range(len(dataset)-past-1):\n",
    "        j = dataset[i:(i+past), 0]\n",
    "        dataX.append(j)\n",
    "        dataY.append(dataset[i + past, 0])\n",
    "    return np.array(dataX), np.array(dataY)"
   ]
  },
  {
   "cell_type": "code",
   "execution_count": 119,
   "metadata": {},
   "outputs": [],
   "source": [
    "##Function which scales our data and splits them into training and test sets\n",
    "def testandtrain(prices):\n",
    "    scaler = MinMaxScaler(feature_range=(0, 1))\n",
    "    prices = scaler.fit_transform(prices)\n",
    "    trainsize = int(len(prices) * 0.80)\n",
    "    testsize = len(prices) - trainsize\n",
    "    train, test = prices[0:trainsize,:], prices[trainsize:len(prices),:]\n",
    "    print(len(train), len(test))\n",
    "    \n",
    "    x_train,y_train = create_dataset(train,1)\n",
    "    x_test,y_test = create_dataset(test,1)\n",
    "    \n",
    "    x_train = scaler.fit_transform(x_train)\n",
    "    x_test = scaler.fit_transform(x_test)\n",
    "    #y_test =scaler.fit_transform(y_test)\n",
    "    #y_train=scaler.fit_transform(y_train)\n",
    "    return x_train,y_train, x_test,y_test"
   ]
  },
  {
   "cell_type": "code",
   "execution_count": 120,
   "metadata": {},
   "outputs": [
    {
     "name": "stdout",
     "output_type": "stream",
     "text": [
      "2500 625\n"
     ]
    }
   ],
   "source": [
    "trainX, trainY, testX, testY=testandtrain(prices)"
   ]
  },
  {
   "cell_type": "markdown",
   "metadata": {},
   "source": [
    "## Application of Models\n",
    "## Random Forest Regressor"
   ]
  },
  {
   "cell_type": "code",
   "execution_count": 121,
   "metadata": {},
   "outputs": [
    {
     "name": "stdout",
     "output_type": "stream",
     "text": [
      "building tree 1 of 10building tree 2 of 10\n",
      "\n",
      "building tree 3 of 10\n",
      "building tree 4 of 10\n",
      "building tree 5 of 10\n",
      "building tree 6 of 10\n",
      "building tree 7 of 10\n",
      "building tree 8 of 10\n",
      "building tree 9 of 10\n",
      "building tree 10 of 10\n"
     ]
    },
    {
     "name": "stderr",
     "output_type": "stream",
     "text": [
      "C:\\Python\\envs\\ML Project\\lib\\site-packages\\sklearn\\ensemble\\forest.py:245: FutureWarning: The default value of n_estimators will change from 10 in version 0.20 to 100 in 0.22.\n",
      "  \"10 in version 0.20 to 100 in 0.22.\", FutureWarning)\n",
      "[Parallel(n_jobs=5)]: Using backend ThreadingBackend with 5 concurrent workers.\n",
      "[Parallel(n_jobs=5)]: Done   7 out of  10 | elapsed:    0.0s remaining:    0.0s\n",
      "[Parallel(n_jobs=5)]: Done  10 out of  10 | elapsed:    0.0s finished\n"
     ]
    },
    {
     "data": {
      "text/plain": [
       "RandomForestRegressor(bootstrap=True, criterion='mse', max_depth=None,\n",
       "                      max_features='auto', max_leaf_nodes=None,\n",
       "                      min_impurity_decrease=0.0, min_impurity_split=None,\n",
       "                      min_samples_leaf=1, min_samples_split=2,\n",
       "                      min_weight_fraction_leaf=0.0, n_estimators=10, n_jobs=5,\n",
       "                      oob_score=False, random_state=2017, verbose=2,\n",
       "                      warm_start=False)"
      ]
     },
     "execution_count": 121,
     "metadata": {},
     "output_type": "execute_result"
    }
   ],
   "source": [
    "## Applying the Random Forest Regressor to our data\n",
    "randomforest  = RandomForestRegressor(random_state=2017,verbose=2,n_jobs=5) #random forest algorithm\n",
    "randomforest.fit(trainX,trainY)"
   ]
  },
  {
   "cell_type": "code",
   "execution_count": 122,
   "metadata": {},
   "outputs": [
    {
     "name": "stdout",
     "output_type": "stream",
     "text": [
      "[0.2996402  0.30561524 0.2850173  0.28738661 0.24932061 0.21675563\n",
      " 0.2547792  0.22108492 0.22557491 0.21773724 0.24527655 0.2448909\n",
      " 0.21669016 0.25527556 0.27018102 0.24832524 0.28163832 0.28980324\n",
      " 0.28738661 0.2809652  0.28679562 0.28104823 0.27138801 0.25201935\n",
      " 0.2439437  0.25449933 0.26507059 0.27270209 0.28081923 0.29773469\n",
      " 0.30649279 0.2861167  0.2831747  0.27412332 0.25937008 0.25417795\n",
      " 0.26739749 0.28744463 0.29708076 0.31785033 0.29708076 0.2734435\n",
      " 0.30599109 0.27225841 0.27742998 0.27618551 0.26965187 0.24936883\n",
      " 0.25849014 0.25775065 0.27377514 0.22661583 0.24832524 0.22222181\n",
      " 0.1717458  0.15585451 0.16031146 0.13220632 0.1170169  0.0792704\n",
      " 0.10792523 0.12444929 0.14002157 0.17205173 0.16031146 0.16014363\n",
      " 0.1815788  0.18295421 0.17979751 0.20271568 0.20320577 0.2017042\n",
      " 0.1741428  0.16537636 0.16537636 0.17754249 0.1910834  0.17651228\n",
      " 0.17472725 0.1717458  0.14704505 0.15449845 0.15512513 0.14002157\n",
      " 0.14208773 0.15571121 0.16031146 0.15571121 0.16031146 0.13220632\n",
      " 0.12466801 0.1170169  0.14002157 0.08582969 0.09544796 0.1162566\n",
      " 0.08582969 0.10792523 0.06949899 0.06298743 0.00429127 0.02925653\n",
      " 0.0598352  0.06593327 0.10792523 0.12466801 0.1170169  0.13220632\n",
      " 0.12275846 0.11425879 0.09544796 0.09675314 0.06782155 0.02947793\n",
      " 0.02660245 0.03142765 0.0124625  0.00203801 0.01635212 0.02875303\n",
      " 0.01855806 0.04265284 0.0407415  0.07584184 0.12275846 0.13906457\n",
      " 0.1162923  0.06928027 0.05820149 0.05820149 0.12275846 0.10792523\n",
      " 0.10755876 0.08584955 0.09721825 0.11071185 0.09675314 0.13220632\n",
      " 0.12444929 0.14145925 0.15581433 0.14977502 0.14002157 0.14278406\n",
      " 0.13906457 0.11425879 0.12466801 0.15571121 0.18577167 0.19489625\n",
      " 0.23030369 0.24212165 0.23721923 0.25523585 0.21975921 0.22661583\n",
      " 0.19256265 0.16990214 0.18637514 0.16197282 0.18356662 0.18612743\n",
      " 0.21075291 0.20515818 0.19521645 0.19554082 0.24062096 0.21148991\n",
      " 0.20515818 0.18007293 0.18732769 0.18050278 0.16031146 0.13220632\n",
      " 0.14002157 0.15614375 0.16031146 0.15808141 0.16010345 0.16031146\n",
      " 0.13220632 0.13220632 0.14002157 0.10693564 0.15449845 0.14002157\n",
      " 0.16031146 0.17431051 0.21991767 0.21185631 0.20138014 0.19060847\n",
      " 0.16031146 0.15581433 0.16995249 0.14002157 0.11425879 0.13906457\n",
      " 0.16031146 0.14208773 0.12466801 0.12575762 0.16031146 0.14704505\n",
      " 0.14704505 0.16031146 0.17294047 0.17314811 0.16831165 0.15512513\n",
      " 0.17018727 0.16961503 0.1488189  0.16031146 0.1669919  0.16993356\n",
      " 0.16537636 0.16031146 0.14002157 0.14002157 0.17294047 0.1602253\n",
      " 0.15571121 0.14002157 0.15614375 0.14704505 0.17484198 0.18007293\n",
      " 0.19696024 0.20064454 0.18611209 0.17801117 0.16197282 0.13220632\n",
      " 0.13220632 0.14002157 0.15571121 0.14208773 0.1602253  0.13906457\n",
      " 0.15539118 0.17560794 0.22294721 0.25599735 0.26107251 0.30629195\n",
      " 0.60154084 0.58319503 0.59592373 0.5634409  0.5257031  0.46915081\n",
      " 0.48064406 0.46208041 0.48297471 0.48163565 0.47005202 0.48178563\n",
      " 0.48284794 0.51891418 0.51531509 0.48658597 0.48148471 0.56420867\n",
      " 0.5733341  0.56247427 0.56617515 0.57823187 0.57526009 0.57823187\n",
      " 0.54567206 0.43093041 0.35277011 0.33940505 0.48764103 0.50769144\n",
      " 0.47411798 0.4467433  0.38946276 0.43843732 0.42712291 0.38939837\n",
      " 0.43158339 0.41677621 0.45066681 0.46017173 0.45262172 0.4878767\n",
      " 0.49053615 0.52322968 0.4959586  0.50343962 0.46402654 0.45899243\n",
      " 0.47785494 0.42452684 0.38236827 0.37673723 0.41366945 0.40844521\n",
      " 0.47358947 0.5225307  0.52322968 0.51700237 0.50343962 0.51064488\n",
      " 0.51518978 0.54475158 0.53751694 0.58319503 0.59592373 0.60470465\n",
      " 0.54062274 0.51993465 0.54376334 0.65058675 0.69046384 0.69662846\n",
      " 0.71717076 0.73177218 0.71120358 0.73243582 0.73243582 0.73243582\n",
      " 0.81187595 0.81187595 0.73243582 0.74728281 0.81187595 0.73243582\n",
      " 0.7184455  0.73243582 0.73470426 0.81187595 0.81187595 0.82047296\n",
      " 0.82212122 0.81187595 0.81187595 0.8197454  0.81187595 0.85604755\n",
      " 0.828353   0.81187595 0.83492738 0.82633989 0.82572604 0.81187595\n",
      " 0.81187595 0.73243582 0.81187595 0.81187595 0.82212122 0.81187595\n",
      " 0.73243582 0.81187595 0.81187595 0.81187595 0.81187595 0.84384484\n",
      " 0.87390192 0.87272972 0.82965057 0.81187595 0.81187595 0.81187595\n",
      " 0.71306777 0.69333214 0.69597428 0.73296398 0.65058675 0.70078778\n",
      " 0.63504458 0.65058675 0.65371549 0.67896473 0.73351212 0.70084356\n",
      " 0.69499176 0.65953164 0.73243582 0.81187595 0.82713006 0.83167762\n",
      " 0.73243582 0.68783953 0.60396756 0.60733197 0.60675701 0.61888277\n",
      " 0.62279967 0.61888277 0.66083254 0.69331962 0.65953164 0.67930292\n",
      " 0.67321984 0.64864566 0.65528699 0.68285867 0.67137014 0.64864566\n",
      " 0.71829134 0.70213714 0.69937032 0.68704255 0.63233992 0.6353297\n",
      " 0.67282351 0.70186132 0.73177218 0.73243582 0.73243582 0.73243582\n",
      " 0.80189505 0.73243582 0.81187595 0.81187595 0.73243582 0.73243582\n",
      " 0.73243582 0.81187595 0.81187595 0.81187595 0.81187595 0.81187595\n",
      " 0.80189505 0.81187595 0.81187595 0.81187595 0.73243582 0.81187595\n",
      " 0.8197454  0.82572604 0.83167762 0.85795057 0.82246219 0.82572604\n",
      " 0.83167762 0.70912619 0.71829134 0.67282351 0.67930292 0.61883539\n",
      " 0.62084101 0.64598413 0.62218074 0.63086126 0.64905242 0.67442328\n",
      " 0.68285867 0.70339766 0.68860604 0.69329374 0.67137014 0.69594299\n",
      " 0.65260613 0.67930292 0.64781134 0.67930292 0.64864566 0.698735\n",
      " 0.71998144 0.71717076 0.73243582 0.73243582 0.73243582 0.72248929\n",
      " 0.69720037 0.68783953 0.69046384 0.71829134 0.71829134 0.68869506\n",
      " 0.69315445 0.68869506 0.70186132 0.67059166 0.6097402  0.61810477\n",
      " 0.63333089 0.63584964 0.65030527 0.55180102 0.54376334 0.56939445\n",
      " 0.56714213 0.60975696 0.63412971 0.6172856  0.63470836 0.61380398\n",
      " 0.66083254 0.67988741 0.69594283 0.68892747 0.70012759 0.7138283\n",
      " 0.73243582 0.73243582 0.73243582 0.73243582 0.81187595 0.73243582\n",
      " 0.73993475 0.81187595 0.81187595 0.86554325 0.91162235 0.91185005\n",
      " 0.90831925 0.89844475 0.89741902 0.90331643 0.89949551 0.91404971\n",
      " 0.91404971 0.89741902 0.912716   0.91098134 0.9046689  0.90912808\n",
      " 0.90831925 0.88653755 0.88653755 0.87376084 0.86554325 0.87376084\n",
      " 0.88653755 0.86849283 0.87509011 0.86554325 0.88653755 0.91153401\n",
      " 0.91153401 0.90772561 0.85903609 0.90831925 0.85903609 0.86498529\n",
      " 0.917434   0.90831925 0.88653755 0.91185005 0.90366371 0.93856136\n",
      " 0.94506222 0.90912808 0.93430656 0.47532226 0.90912808 0.90753723\n",
      " 0.90931017 0.90912808 0.917434   0.90772561 0.91112152 0.9417127\n",
      " 0.92569442 0.92185479 0.90753723 0.91448357 0.89741902 0.97339842\n",
      " 0.98546532 0.97339842 0.92912617 0.9992768  0.96987747 0.97339842\n",
      " 0.95133717 0.95296552 0.77311266 0.9046689  0.85903609 0.84384484\n",
      " 0.83167762 0.91378006 0.92185479 0.90314771 0.83167762 0.82325027\n",
      " 0.73243582 0.82572604 0.83167762 0.86433985 0.8294576  0.85707062\n",
      " 0.85707062 0.83871942 0.83167762 0.85439934 0.87509011 0.82572604\n",
      " 0.81187595 0.81187595 0.82965057 0.82246219 0.86636188 0.88653755\n",
      " 0.92383577 0.91153401 0.94404629 0.9272433  0.93856136 0.77311266\n",
      " 0.92981437 0.94506222 0.92981437 0.92569442 0.90920397 0.77311266\n",
      " 0.91448357 0.90772561 0.86981407 0.89949551 0.90920397 0.93695354\n",
      " 0.96317035 0.98546532 0.96480405 0.98680182 0.9847932 ]\n"
     ]
    },
    {
     "name": "stderr",
     "output_type": "stream",
     "text": [
      "[Parallel(n_jobs=5)]: Using backend ThreadingBackend with 5 concurrent workers.\n",
      "[Parallel(n_jobs=5)]: Done   7 out of  10 | elapsed:    0.0s remaining:    0.0s\n",
      "[Parallel(n_jobs=5)]: Done  10 out of  10 | elapsed:    0.0s finished\n"
     ]
    }
   ],
   "source": [
    "test=[]\n",
    "test= randomforest.predict(testX)\n",
    "print(test)"
   ]
  },
  {
   "cell_type": "code",
   "execution_count": 123,
   "metadata": {},
   "outputs": [
    {
     "data": {
      "text/plain": [
       "0.21135660475599166"
      ]
     },
     "execution_count": 123,
     "metadata": {},
     "output_type": "execute_result"
    }
   ],
   "source": [
    "##Evaluating our model using the RMSE metric.\n",
    "from sklearn.metrics import mean_squared_error\n",
    "math.sqrt(mean_squared_error(test,testY))"
   ]
  },
  {
   "cell_type": "code",
   "execution_count": 124,
   "metadata": {},
   "outputs": [
    {
     "data": {
      "image/png": "[encoded data removed]",
      "text/plain": [
       "<Figure size 432x288 with 1 Axes>"
      ]
     },
     "metadata": {
      "needs_background": "light"
     },
     "output_type": "display_data"
    }
   ],
   "source": [
    "## Plot showing the actual and predicted values  \n",
    "plt.plot(test,color=\"blue\")\n",
    "plt.plot(testY,color='red')\n",
    "plt.show()"
   ]
  },
  {
   "cell_type": "markdown",
   "metadata": {},
   "source": [
    "## Linear Regression"
   ]
  },
  {
   "cell_type": "code",
   "execution_count": 125,
   "metadata": {},
   "outputs": [],
   "source": [
    "## Applying the linear Regression Model to our data\n",
    "from sklearn import datasets, linear_model\n",
    "from sklearn.metrics import mean_squared_error\n",
    "regr = linear_model.LinearRegression()\n",
    "regr.fit(trainX, trainY)\n",
    "test= regr.predict(testX)"
   ]
  },
  {
   "cell_type": "code",
   "execution_count": 126,
   "metadata": {},
   "outputs": [
    {
     "name": "stdout",
     "output_type": "stream",
     "text": [
      "[0.29875305 0.30151907 0.28660008 0.29098466 0.24422647 0.2267178\n",
      " 0.25223044 0.22536437 0.22933672 0.22145072 0.23948891 0.23745842\n",
      " 0.2223629  0.25896892 0.2592337  0.25646785 0.2829218  0.2958988\n",
      " 0.2908963  0.28209776 0.28245082 0.276654   0.2694446  0.25437844\n",
      " 0.24649243 0.25249514 0.27094546 0.2735644  0.2842165  0.29787034\n",
      " 0.3091993  0.28077355 0.28504053 0.27824315 0.2599696  0.25037664\n",
      " 0.27138695 0.28465775 0.29636973 0.320293   0.29636973 0.27844903\n",
      " 0.2997534  0.26099938 0.26879725 0.26853243 0.27029786 0.24446194\n",
      " 0.24814013 0.26394194 0.26844427 0.22818919 0.25655589 0.21850805\n",
      " 0.17254442 0.14182362 0.1534175  0.12999427 0.11878293 0.0777334\n",
      " 0.1054235  0.12204934 0.13576186 0.16801298 0.1540354  0.15691926\n",
      " 0.1835792  0.1821374  0.1874931  0.20985672 0.19779213 0.19902794\n",
      " 0.1747809  0.16224526 0.16262794 0.18149003 0.19049433 0.18154883\n",
      " 0.17622271 0.17254442 0.14738521 0.14111733 0.14903302 0.13891041\n",
      " 0.1451783  0.14985682 0.1550064  0.15059257 0.15456516 0.12681636\n",
      " 0.12369716 0.11893001 0.13543811 0.09277023 0.10056808 0.11639936\n",
      " 0.0926525  0.10462894 0.07343732 0.05675278 0.00472727 0.02912161\n",
      " 0.05316275 0.06911165 0.10518803 0.12422691 0.1188124  0.13231903\n",
      " 0.11993058 0.1139571  0.10036208 0.09709579 0.06740502 0.02968071\n",
      " 0.02529623 0.03047515 0.01226042 0.00149044 0.01543844 0.02759141\n",
      " 0.02194167 0.04090665 0.0393913  0.07014156 0.11990112 0.13358441\n",
      " 0.11819438 0.07249567 0.04671833 0.04907244 0.12063675 0.10489387\n",
      " 0.10813069 0.08694383 0.09791993 0.10982271 0.09630146 0.12831698\n",
      " 0.12196095 0.14553127 0.1606856  0.14258872 0.13564412 0.146826\n",
      " 0.13314293 0.11313319 0.1238737  0.14941558 0.18460912 0.19443746\n",
      " 0.2308965  0.24200471 0.24063644 0.24977322 0.2246582  0.22818919\n",
      " 0.18625695 0.17401569 0.19014125 0.16610011 0.19152437 0.17966555\n",
      " 0.20482476 0.19749786 0.2012643  0.20250012 0.2383118  0.20729671\n",
      " 0.19740959 0.17948888 0.19003837 0.17110261 0.15577161 0.13170101\n",
      " 0.13946962 0.14214724 0.15385897 0.15144606 0.15297602 0.15327042\n",
      " 0.12719892 0.13090645 0.13820425 0.10648276 0.14117625 0.1364533\n",
      " 0.15485932 0.1792242  0.22689445 0.20470726 0.19955757 0.19078861\n",
      " 0.15365297 0.1606856  0.1656294  0.1368064  0.11336866 0.13384911\n",
      " 0.1541826  0.14485456 0.12410893 0.12634543 0.15491824 0.14694373\n",
      " 0.14747337 0.1551537  0.1646583  0.17731144 0.17057298 0.14900357\n",
      " 0.1697784  0.1695724  0.1435009  0.1549477  0.16889569 0.17283869\n",
      " 0.16224526 0.15588935 0.1380864  0.1342022  0.16492312 0.15738997\n",
      " 0.14982735 0.13667405 0.1421767  0.14726736 0.17545761 0.17940086\n",
      " 0.18575677 0.19667383 0.18249048 0.18066612 0.16627677 0.13152447\n",
      " 0.12796378 0.13755676 0.14944504 0.14438361 0.15736073 0.13284867\n",
      " 0.14152946 0.17525162 0.22121513 0.25785086 0.2572035  0.30964077\n",
      " 0.5975456  0.577595   0.5849807  0.5842451  0.52430415 0.46556976\n",
      " 0.4758689  0.47995898 0.4851676  0.49437767 0.47360295 0.49484837\n",
      " 0.48472637 0.52006674 0.5108272  0.4938775  0.49019957 0.5701206\n",
      " 0.5735636  0.5589683  0.5673841  0.58133197 0.56550086 0.581126\n",
      " 0.5382817  0.433966   0.35769358 0.3410971  0.48019445 0.5043827\n",
      " 0.48004737 0.44511852 0.3913864  0.43655547 0.4134266  0.38962096\n",
      " 0.43352452 0.43214163 0.4547115  0.46712917 0.4588016  0.49587867\n",
      " 0.49720284 0.51529956 0.48366663 0.5014988  0.4609498  0.4612145\n",
      " 0.4659815  0.4225489  0.37576124 0.37093517 0.4138681  0.42799264\n",
      " 0.47210222 0.5153291  0.5152116  0.5103855  0.5015578  0.5140344\n",
      " 0.52930665 0.54913974 0.5410181  0.57812476 0.58489275 0.59851694\n",
      " 0.53981185 0.5156822  0.5431664  0.65554476 0.690238   0.6952405\n",
      " 0.7073052  0.7306402  0.7086884  0.7391441  0.7423222  0.76141965\n",
      " 0.77719223 0.7799287  0.7598306  0.7701005  0.79066956 0.7650099\n",
      " 0.71657455 0.74703026 0.73396516 0.7752503  0.7750441  0.8252448\n",
      " 0.8243624  0.8035579  0.8024694  0.81044376 0.7836069  0.8452252\n",
      " 0.8277463  0.79935    0.83174825 0.813445   0.81977165 0.7827244\n",
      " 0.7753383  0.74703026 0.78269494 0.77548563 0.8240386  0.8041465\n",
      " 0.7659514  0.77757454 0.79620135 0.80026233 0.7924055  0.84066415\n",
      " 0.8751519  0.8643817  0.8282169  0.7735729  0.77972317 0.77324915\n",
      " 0.719311   0.6896199  0.695976   0.73208225 0.65625095 0.6910324\n",
      " 0.629532   0.65480924 0.6532787  0.67714334 0.7324351  0.6975945\n",
      " 0.6980947  0.6503953  0.74079216 0.77919304 0.8069128  0.8367504\n",
      " 0.74397016 0.6870308  0.60972834 0.6109052  0.6016656  0.6188209\n",
      " 0.6173787  0.6189387  0.6505717  0.692739   0.65018904 0.6637249\n",
      " 0.68414664 0.64954185 0.6601646  0.6843529  0.67181706 0.6493355\n",
      " 0.7227539  0.71483827 0.6916212  0.68758965 0.6363293  0.63847756\n",
      " 0.67343557 0.69332767 0.73069906 0.74650073 0.74747205 0.7674521\n",
      " 0.77074754 0.7617141  0.78157663 0.77536774 0.7680408  0.76003706\n",
      " 0.7554463  0.7925525  0.7997621  0.78375435 0.8036758  0.7902869\n",
      " 0.7710129  0.7989676  0.7755736  0.7736609  0.76798165 0.78793275\n",
      " 0.810267   0.82050765 0.83407307 0.85667205 0.8230381  0.81912446\n",
      " 0.83407307 0.7098067  0.7228718  0.67331815 0.66181254 0.6135535\n",
      " 0.6218519  0.641067   0.6234995  0.63212144 0.64195    0.67275894\n",
      " 0.6843823  0.7145438  0.68856096 0.6812633  0.67172897 0.68782496\n",
      " 0.65807533 0.66275406 0.6437154  0.66254807 0.64942396 0.6958585\n",
      " 0.71077764 0.70733464 0.73873234 0.74241066 0.7412628  0.7289337\n",
      " 0.70418596 0.68711877 0.69015    0.7249901  0.72378385 0.69632924\n",
      " 0.6924746  0.69650567 0.69338655 0.67002213 0.61117005 0.6167021\n",
      " 0.62479424 0.629473   0.64242065 0.55511355 0.5431664  0.57294536\n",
      " 0.58450997 0.6090516  0.6288259  0.6130533  0.6250591  0.62002754\n",
      " 0.65098345 0.67870295 0.6943284  0.6854123  0.70400953 0.70350945\n",
      " 0.755211   0.7558286  0.7666285  0.7587713  0.77310216 0.76792324\n",
      " 0.76830554 0.7810174  0.7924055  0.8674419  0.8956909  0.8932785\n",
      " 0.88974714 0.884833   0.91331744 0.9083148  0.9149358  0.9179076\n",
      " 0.91705465 0.91367054 0.9104631  0.89642704 0.9088739  0.9010172\n",
      " 0.8918952  0.88395    0.8828907  0.8740926  0.8673245  0.87297416\n",
      " 0.8806251  0.86914885 0.8630575  0.8676189  0.8837148  0.916525\n",
      " 0.91643655 0.9012822  0.8590261  0.8894528  0.85973215 0.86485267\n",
      " 0.89654446 0.8869512  0.87935984 0.89227796 0.90772676 0.93985987\n",
      " 0.93694675 0.900723   0.92449915 0.9225279  0.90069354 0.90487194\n",
      " 0.8940433  0.90113485 0.89654446 0.90198827 0.8950145  0.9346217\n",
      " 0.92108583 0.92755973 0.90493083 0.906461   0.91305256 0.95616174\n",
      " 0.97264075 0.95657396 0.963724   0.99809396 0.9769368  0.95795655\n",
      " 0.9439795  0.9504826  0.9220573  0.90905046 0.85884976 0.8405173\n",
      " 0.8373095  0.8988987  0.9281776  0.90937436 0.8349261  0.8097962\n",
      " 0.7552699  0.81983054 0.8340142  0.8521993  0.8222141  0.84819746\n",
      " 0.848786   0.83113027 0.8347496  0.85111034 0.8618512  0.82159615\n",
      " 0.7879622  0.78834486 0.82883525 0.8228322  0.8678247  0.8787122\n",
      " 0.920733   0.91617167 0.93806493 0.94556856 0.9389771  0.92188025\n",
      " 0.9297075  0.93765295 0.928825   0.9214095  0.91587746 0.92170393\n",
      " 0.90637314 0.90139997 0.8707086  0.9152008  0.91578937 0.9312382\n",
      " 0.9671086  0.9729053  0.9694625  0.98079145 0.9798204 ]\n"
     ]
    }
   ],
   "source": [
    "test=[]\n",
    "test= regr.predict(testX)\n",
    "print(test)"
   ]
  },
  {
   "cell_type": "code",
   "execution_count": 127,
   "metadata": {},
   "outputs": [
    {
     "data": {
      "text/plain": [
       "0.2111197496690744"
      ]
     },
     "execution_count": 127,
     "metadata": {},
     "output_type": "execute_result"
    }
   ],
   "source": [
    "##Evaluating the linear Regression Model Using the RMSE.\n",
    "from sklearn.metrics import mean_squared_error\n",
    "math.sqrt(mean_squared_error(test,testY))"
   ]
  },
  {
   "cell_type": "code",
   "execution_count": 128,
   "metadata": {},
   "outputs": [
    {
     "data": {
      "image/png": "[encoded data removed]",
      "text/plain": [
       "<Figure size 432x288 with 1 Axes>"
      ]
     },
     "metadata": {
      "needs_background": "light"
     },
     "output_type": "display_data"
    }
   ],
   "source": [
    "##Visualizing the Actual Values of the test set and the predicted Values.\n",
    "plt.plot(test,color=\"blue\")\n",
    "plt.plot(testY,color='red')\n",
    "plt.show()"
   ]
  },
  {
   "cell_type": "markdown",
   "metadata": {},
   "source": [
    "## Decision Tree Regressor"
   ]
  },
  {
   "cell_type": "code",
   "execution_count": 129,
   "metadata": {},
   "outputs": [],
   "source": [
    "##Applying the Decision tree and fitting to the training data\n",
    "from sklearn.tree import DecisionTreeRegressor\n",
    "dtr= DecisionTreeRegressor(max_depth=2)\n",
    "dtr=dtr.fit(trainX, trainY)\n",
    "test=dtr.predict(testX)"
   ]
  },
  {
   "cell_type": "code",
   "execution_count": 130,
   "metadata": {},
   "outputs": [
    {
     "name": "stdout",
     "output_type": "stream",
     "text": [
      "[0.38808968 0.38808968 0.38808968 0.38808968 0.17726312 0.17726312\n",
      " 0.17726312 0.17726312 0.17726312 0.17726312 0.17726312 0.17726312\n",
      " 0.17726312 0.17726312 0.17726312 0.17726312 0.38808968 0.38808968\n",
      " 0.38808968 0.38808968 0.38808968 0.17726312 0.17726312 0.17726312\n",
      " 0.17726312 0.17726312 0.17726312 0.17726312 0.38808968 0.38808968\n",
      " 0.38808968 0.38808968 0.38808968 0.17726312 0.17726312 0.17726312\n",
      " 0.17726312 0.38808968 0.38808968 0.38808968 0.38808968 0.17726312\n",
      " 0.38808968 0.17726312 0.17726312 0.17726312 0.17726312 0.17726312\n",
      " 0.17726312 0.17726312 0.17726312 0.17726312 0.17726312 0.17726312\n",
      " 0.17726312 0.17726312 0.17726312 0.17726312 0.17726312 0.17726312\n",
      " 0.17726312 0.17726312 0.17726312 0.17726312 0.17726312 0.17726312\n",
      " 0.17726312 0.17726312 0.17726312 0.17726312 0.17726312 0.17726312\n",
      " 0.17726312 0.17726312 0.17726312 0.17726312 0.17726312 0.17726312\n",
      " 0.17726312 0.17726312 0.17726312 0.17726312 0.17726312 0.17726312\n",
      " 0.17726312 0.17726312 0.17726312 0.17726312 0.17726312 0.17726312\n",
      " 0.17726312 0.17726312 0.17726312 0.17726312 0.17726312 0.17726312\n",
      " 0.17726312 0.17726312 0.17726312 0.17726312 0.17726312 0.17726312\n",
      " 0.17726312 0.17726312 0.17726312 0.17726312 0.17726312 0.17726312\n",
      " 0.17726312 0.17726312 0.17726312 0.17726312 0.17726312 0.17726312\n",
      " 0.17726312 0.17726312 0.17726312 0.17726312 0.17726312 0.17726312\n",
      " 0.17726312 0.17726312 0.17726312 0.17726312 0.17726312 0.17726312\n",
      " 0.17726312 0.17726312 0.17726312 0.17726312 0.17726312 0.17726312\n",
      " 0.17726312 0.17726312 0.17726312 0.17726312 0.17726312 0.17726312\n",
      " 0.17726312 0.17726312 0.17726312 0.17726312 0.17726312 0.17726312\n",
      " 0.17726312 0.17726312 0.17726312 0.17726312 0.17726312 0.17726312\n",
      " 0.17726312 0.17726312 0.17726312 0.17726312 0.17726312 0.17726312\n",
      " 0.17726312 0.17726312 0.17726312 0.17726312 0.17726312 0.17726312\n",
      " 0.17726312 0.17726312 0.17726312 0.17726312 0.17726312 0.17726312\n",
      " 0.17726312 0.17726312 0.17726312 0.17726312 0.17726312 0.17726312\n",
      " 0.17726312 0.17726312 0.17726312 0.17726312 0.17726312 0.17726312\n",
      " 0.17726312 0.17726312 0.17726312 0.17726312 0.17726312 0.17726312\n",
      " 0.17726312 0.17726312 0.17726312 0.17726312 0.17726312 0.17726312\n",
      " 0.17726312 0.17726312 0.17726312 0.17726312 0.17726312 0.17726312\n",
      " 0.17726312 0.17726312 0.17726312 0.17726312 0.17726312 0.17726312\n",
      " 0.17726312 0.17726312 0.17726312 0.17726312 0.17726312 0.17726312\n",
      " 0.17726312 0.17726312 0.17726312 0.17726312 0.17726312 0.17726312\n",
      " 0.17726312 0.17726312 0.17726312 0.17726312 0.17726312 0.17726312\n",
      " 0.17726312 0.17726312 0.17726312 0.17726312 0.17726312 0.17726312\n",
      " 0.17726312 0.17726312 0.17726312 0.17726312 0.17726312 0.17726312\n",
      " 0.17726312 0.17726312 0.17726312 0.17726312 0.17726312 0.17726312\n",
      " 0.17726312 0.17726312 0.17726312 0.17726312 0.17726312 0.38808968\n",
      " 0.61615012 0.61615012 0.61615012 0.61615012 0.61615012 0.38808968\n",
      " 0.38808968 0.38808968 0.38808968 0.38808968 0.38808968 0.38808968\n",
      " 0.38808968 0.61615012 0.61615012 0.38808968 0.38808968 0.61615012\n",
      " 0.61615012 0.61615012 0.61615012 0.61615012 0.61615012 0.61615012\n",
      " 0.61615012 0.38808968 0.38808968 0.38808968 0.38808968 0.38808968\n",
      " 0.38808968 0.38808968 0.38808968 0.38808968 0.38808968 0.38808968\n",
      " 0.38808968 0.38808968 0.38808968 0.38808968 0.38808968 0.38808968\n",
      " 0.38808968 0.61615012 0.38808968 0.38808968 0.38808968 0.38808968\n",
      " 0.38808968 0.38808968 0.38808968 0.38808968 0.38808968 0.38808968\n",
      " 0.38808968 0.61615012 0.61615012 0.61615012 0.38808968 0.61615012\n",
      " 0.61615012 0.61615012 0.61615012 0.61615012 0.61615012 0.61615012\n",
      " 0.61615012 0.61615012 0.61615012 0.61615012 0.61615012 0.61615012\n",
      " 0.61615012 0.61615012 0.61615012 0.61615012 0.61615012 0.61615012\n",
      " 0.903161   0.903161   0.61615012 0.61615012 0.903161   0.61615012\n",
      " 0.61615012 0.61615012 0.61615012 0.903161   0.903161   0.903161\n",
      " 0.903161   0.903161   0.903161   0.903161   0.903161   0.903161\n",
      " 0.903161   0.903161   0.903161   0.903161   0.903161   0.903161\n",
      " 0.903161   0.61615012 0.903161   0.903161   0.903161   0.903161\n",
      " 0.61615012 0.903161   0.903161   0.903161   0.903161   0.903161\n",
      " 0.903161   0.903161   0.903161   0.903161   0.903161   0.903161\n",
      " 0.61615012 0.61615012 0.61615012 0.61615012 0.61615012 0.61615012\n",
      " 0.61615012 0.61615012 0.61615012 0.61615012 0.61615012 0.61615012\n",
      " 0.61615012 0.61615012 0.61615012 0.903161   0.903161   0.903161\n",
      " 0.61615012 0.61615012 0.61615012 0.61615012 0.61615012 0.61615012\n",
      " 0.61615012 0.61615012 0.61615012 0.61615012 0.61615012 0.61615012\n",
      " 0.61615012 0.61615012 0.61615012 0.61615012 0.61615012 0.61615012\n",
      " 0.61615012 0.61615012 0.61615012 0.61615012 0.61615012 0.61615012\n",
      " 0.61615012 0.61615012 0.61615012 0.61615012 0.61615012 0.61615012\n",
      " 0.903161   0.61615012 0.903161   0.903161   0.61615012 0.61615012\n",
      " 0.61615012 0.903161   0.903161   0.903161   0.903161   0.903161\n",
      " 0.903161   0.903161   0.903161   0.903161   0.61615012 0.903161\n",
      " 0.903161   0.903161   0.903161   0.903161   0.903161   0.903161\n",
      " 0.903161   0.61615012 0.61615012 0.61615012 0.61615012 0.61615012\n",
      " 0.61615012 0.61615012 0.61615012 0.61615012 0.61615012 0.61615012\n",
      " 0.61615012 0.61615012 0.61615012 0.61615012 0.61615012 0.61615012\n",
      " 0.61615012 0.61615012 0.61615012 0.61615012 0.61615012 0.61615012\n",
      " 0.61615012 0.61615012 0.61615012 0.61615012 0.61615012 0.61615012\n",
      " 0.61615012 0.61615012 0.61615012 0.61615012 0.61615012 0.61615012\n",
      " 0.61615012 0.61615012 0.61615012 0.61615012 0.61615012 0.61615012\n",
      " 0.61615012 0.61615012 0.61615012 0.61615012 0.61615012 0.61615012\n",
      " 0.61615012 0.61615012 0.61615012 0.61615012 0.61615012 0.61615012\n",
      " 0.61615012 0.61615012 0.61615012 0.61615012 0.61615012 0.61615012\n",
      " 0.61615012 0.61615012 0.61615012 0.61615012 0.903161   0.61615012\n",
      " 0.61615012 0.903161   0.903161   0.903161   0.903161   0.903161\n",
      " 0.903161   0.903161   0.903161   0.903161   0.903161   0.903161\n",
      " 0.903161   0.903161   0.903161   0.903161   0.903161   0.903161\n",
      " 0.903161   0.903161   0.903161   0.903161   0.903161   0.903161\n",
      " 0.903161   0.903161   0.903161   0.903161   0.903161   0.903161\n",
      " 0.903161   0.903161   0.903161   0.903161   0.903161   0.903161\n",
      " 0.903161   0.903161   0.903161   0.903161   0.903161   0.903161\n",
      " 0.903161   0.903161   0.903161   0.903161   0.903161   0.903161\n",
      " 0.903161   0.903161   0.903161   0.903161   0.903161   0.903161\n",
      " 0.903161   0.903161   0.903161   0.903161   0.903161   0.903161\n",
      " 0.903161   0.903161   0.903161   0.903161   0.903161   0.903161\n",
      " 0.903161   0.903161   0.903161   0.903161   0.903161   0.903161\n",
      " 0.903161   0.903161   0.903161   0.903161   0.903161   0.903161\n",
      " 0.61615012 0.903161   0.903161   0.903161   0.903161   0.903161\n",
      " 0.903161   0.903161   0.903161   0.903161   0.903161   0.903161\n",
      " 0.903161   0.903161   0.903161   0.903161   0.903161   0.903161\n",
      " 0.903161   0.903161   0.903161   0.903161   0.903161   0.903161\n",
      " 0.903161   0.903161   0.903161   0.903161   0.903161   0.903161\n",
      " 0.903161   0.903161   0.903161   0.903161   0.903161   0.903161\n",
      " 0.903161   0.903161   0.903161   0.903161   0.903161  ]\n"
     ]
    }
   ],
   "source": [
    "test=[]\n",
    "test= dtr.predict(testX)\n",
    "print(test)"
   ]
  },
  {
   "cell_type": "code",
   "execution_count": 131,
   "metadata": {},
   "outputs": [
    {
     "data": {
      "text/plain": [
       "0.20914642866008706"
      ]
     },
     "execution_count": 131,
     "metadata": {},
     "output_type": "execute_result"
    }
   ],
   "source": [
    "from sklearn.metrics import mean_squared_error\n",
    "math.sqrt(mean_squared_error(test,testY))"
   ]
  },
  {
   "cell_type": "code",
   "execution_count": 132,
   "metadata": {},
   "outputs": [
    {
     "data": {
      "image/png": "[encoded data removed]",
      "text/plain": [
       "<Figure size 432x288 with 1 Axes>"
      ]
     },
     "metadata": {
      "needs_background": "light"
     },
     "output_type": "display_data"
    }
   ],
   "source": [
    "plt.plot(test,color=\"blue\")\n",
    "plt.plot(testY,color='red')\n",
    "plt.show()"
   ]
  },
  {
   "cell_type": "markdown",
   "metadata": {},
   "source": [
    "## Support Vector Regresor\n"
   ]
  },
  {
   "cell_type": "code",
   "execution_count": 133,
   "metadata": {},
   "outputs": [
    {
     "name": "stderr",
     "output_type": "stream",
     "text": [
      "C:\\Python\\envs\\ML Project\\lib\\site-packages\\sklearn\\svm\\base.py:193: FutureWarning: The default value of gamma will change from 'auto' to 'scale' in version 0.22 to account better for unscaled features. Set gamma explicitly to 'auto' or 'scale' to avoid this warning.\n",
      "  \"avoid this warning.\", FutureWarning)\n"
     ]
    }
   ],
   "source": [
    "from sklearn.svm import SVR\n",
    "svr = SVR(C=1.0, epsilon=0.2)\n",
    "svr.fit(trainX, trainY)\n",
    "test=svr.predict(testX)"
   ]
  },
  {
   "cell_type": "code",
   "execution_count": 134,
   "metadata": {},
   "outputs": [
    {
     "name": "stdout",
     "output_type": "stream",
     "text": [
      "[0.34135887 0.34311759 0.33370882 0.33645416 0.30807824 0.29799262\n",
      " 0.31278999 0.29722592 0.29948155 0.29501946 0.30531896 0.30414317\n",
      " 0.29553232 0.31680472 0.31696338 0.31530954 0.3314187  0.33955079\n",
      " 0.33639865 0.3309073  0.33112635 0.32754407 0.32313123 0.31406503\n",
      " 0.30940582 0.31294687 0.32404598 0.32564713 0.33222344 0.34079896\n",
      " 0.34803429 0.33008675 0.33273639 0.32852312 0.31740461 0.31169315\n",
      " 0.32431545 0.33249803 0.33984863 0.35522068 0.33984863 0.32865013\n",
      " 0.34199417 0.31802294 0.32273731 0.32257629 0.32365103 0.30821596\n",
      " 0.31037432 0.31979526 0.3225227  0.29882828 0.31536207 0.29337087\n",
      " 0.2688252  0.25374261 0.25930586 0.2482305  0.24316162 0.22592175\n",
      " 0.23732155 0.24462272 0.25089715 0.26653199 0.25960678 0.2610171\n",
      " 0.27450655 0.27375647 0.27655434 0.28857655 0.28202352 0.28268756\n",
      " 0.2699656  0.26364707 0.26383729 0.27342044 0.2781361  0.27345095\n",
      " 0.27070379 0.2688252  0.25639158 0.25340882 0.25718342 0.25236966\n",
      " 0.25533606 0.25758049 0.26008055 0.25793579 0.25986512 0.24677827\n",
      " 0.24536472 0.24322713 0.25074642 0.23199335 0.23525346 0.24210362\n",
      " 0.23194471 0.23698112 0.22423946 0.21792882 0.20055905 0.20826519\n",
      " 0.21661753 0.22256925 0.23722059 0.24560396 0.24317474 0.24930056\n",
      " 0.2436735  0.24102677 0.23516636 0.23379242 0.22191685 0.20845091\n",
      " 0.20700536 0.20871552 0.20285567 0.19959511 0.20384684 0.20775895\n",
      " 0.20591628 0.21226603 0.21174149 0.22296476 0.24366034 0.24988573\n",
      " 0.24289973 0.22387385 0.21430528 0.21514373 0.24398926 0.23709455\n",
      " 0.23848729 0.22960703 0.23413784 0.23922047 0.2334603  0.24746251\n",
      " 0.24458301 0.25550449 0.26287351 0.25410485 0.25084232 0.25612358\n",
      " 0.24968135 0.24066514 0.24544441 0.25736771 0.27504376 0.28022931\n",
      " 0.30037164 0.30678146 0.30598527 0.31133685 0.29682662 0.29882828\n",
      " 0.27590573 0.26957477 0.27794949 0.26557098 0.27868125 0.27247593\n",
      " 0.2858244  0.28186564 0.28389344 0.28456212 0.30463683 0.28717303\n",
      " 0.2818183  0.27238467 0.27789514 0.26809301 0.26045469 0.24901546\n",
      " 0.25263243 0.25389574 0.25952081 0.25834874 0.25909113 0.2592343\n",
      " 0.24695245 0.2486496  0.25203837 0.2377766  0.25343664 0.25121951\n",
      " 0.26000871 0.272248   0.29809284 0.28576046 0.28297266 0.27829173\n",
      " 0.25942048 0.26287351 0.26533514 0.25138435 0.24076841 0.25000838\n",
      " 0.25967853 0.25518171 0.24555065 0.2465641  0.26003749 0.25617997\n",
      " 0.25643386 0.26015252 0.26484939 0.27126275 0.26782465 0.25716924\n",
      " 0.26742264 0.26731852 0.25453764 0.26005188 0.26697687 0.26897493\n",
      " 0.26364707 0.26051232 0.25198314 0.25017211 0.26498174 0.26124821\n",
      " 0.25756627 0.25132254 0.25390969 0.25633506 0.27031177 0.27233921\n",
      " 0.27564377 0.28142405 0.27393994 0.27299345 0.26565955 0.24893411\n",
      " 0.24730121 0.25173514 0.25738191 0.25495739 0.26123385 0.24954525\n",
      " 0.25360352 0.27020634 0.29488714 0.31613558 0.3157487  0.34831839\n",
      " 0.55462749 0.53979979 0.54529511 0.54474804 0.50008055 0.45664298\n",
      " 0.46420346 0.46721414 0.47105437 0.47786032 0.46253744 0.47820864\n",
      " 0.4707288  0.4969268  0.49005746 0.47749024 0.4747705  0.534233\n",
      " 0.53679781 0.52592014 0.5321939  0.54258096 0.53079027 0.54242777\n",
      " 0.5104944  0.43366374 0.38013441 0.36895379 0.4673876  0.48527332\n",
      " 0.46727925 0.44173068 0.40338467 0.4355323  0.41894683 0.40214948\n",
      " 0.43334545 0.43234896 0.44870756 0.45778573 0.45169212 0.47897121\n",
      " 0.47995165 0.49338118 0.46994704 0.48313469 0.45326193 0.45345546\n",
      " 0.45694466 0.42545942 0.39251541 0.38918795 0.41926109 0.42936415\n",
      " 0.46143483 0.49340309 0.49331573 0.48972935 0.48317846 0.4924406\n",
      " 0.50380596 0.51859071 0.5125345  0.54019415 0.54522965 0.55534791\n",
      " 0.5116351  0.49366569 0.51413627 0.59724388 0.62217164 0.62571989\n",
      " 0.63422345 0.65043587 0.63519325 0.65626069 0.65842544 0.67128747\n",
      " 0.6817107  0.68349971 0.67022712 0.67704733 0.69046449 0.67367645\n",
      " 0.64070209 0.66161985 0.6527189  0.68043755 0.68030216 0.71222756\n",
      " 0.71168517 0.69869724 0.69800733 0.70303803 0.68589516 0.72431437\n",
      " 0.71376112 0.6960246  0.7162027  0.70491712 0.70885225 0.68532141\n",
      " 0.68049533 0.66161985 0.68530225 0.680592   0.71148602 0.69906986\n",
      " 0.67430137 0.681961   0.694015   0.69660531 0.69158142 0.72158834\n",
      " 0.74169255 0.73554194 0.71404906 0.67933551 0.68336554 0.67912257\n",
      " 0.64260515 0.62173232 0.62624051 0.65142689 0.59775631 0.62273598\n",
      " 0.57824637 0.59670994 0.59559822 0.61282568 0.65166917 0.62738513\n",
      " 0.62773866 0.59350153 0.65738408 0.68301934 0.70081728 0.71923348\n",
      " 0.65954526 0.61989016 0.5636503  0.56452034 0.55768205 0.57036406\n",
      " 0.5693005  0.57045096 0.5936299  0.62394714 0.59335144 0.60316794\n",
      " 0.61783427 0.59288032 0.60059279 0.61798142 0.60900143 0.59273017\n",
      " 0.64499322 0.63949228 0.62315395 0.62028807 0.58323185 0.5848045\n",
      " 0.61016489 0.6243646  0.65047639 0.66126125 0.66191877 0.67529602\n",
      " 0.67747446 0.67148372 0.68457427 0.68051466 0.67568575 0.67036493\n",
      " 0.667292   0.69167586 0.69628703 0.68599096 0.69877188 0.69021795\n",
      " 0.67764946 0.69578096 0.68064976 0.6793934  0.67564667 0.68869866\n",
      " 0.7029271  0.70930771 0.71761418 0.73106694 0.71086997 0.70845138\n",
      " 0.71761418 0.63597659 0.64507484 0.61008047 0.60178535 0.56647712\n",
      " 0.57259771 0.58669822 0.57381085 0.58014721 0.58734345 0.60967861\n",
      " 0.61800244 0.63928698 0.6209793  0.61577491 0.60893812 0.62045559\n",
      " 0.59907928 0.60246622 0.58863277 0.60231728 0.59279452 0.62615736\n",
      " 0.63665616 0.63424412 0.65597972 0.65848555 0.6577046  0.64926141\n",
      " 0.63203246 0.61995285 0.62210908 0.64654038 0.64570619 0.62649042\n",
      " 0.62375962 0.62661523 0.62440638 0.60770991 0.56471607 0.56880135\n",
      " 0.57476368 0.57820309 0.58768731 0.52304572 0.51413627 0.5363374\n",
      " 0.54494498 0.56314989 0.57772775 0.5661076  0.5749586  0.57125358\n",
      " 0.59392949 0.613943   0.62507392 0.61873695 0.63190837 0.6315565\n",
      " 0.66713406 0.66754849 0.67475036 0.66951919 0.67902587 0.67560798\n",
      " 0.67586099 0.68420986 0.69158142 0.73730159 0.75308689 0.75177182\n",
      " 0.74983555 0.74711888 0.76250273 0.75986519 0.76335001 0.76489822\n",
      " 0.76445484 0.76268784 0.76100121 0.75348691 0.76016134 0.75596801\n",
      " 0.7510149  0.74662805 0.74603814 0.74109291 0.73723427 0.74045851\n",
      " 0.74477243 0.738279   0.73477757 0.73740309 0.74649715 0.76417914\n",
      " 0.76413309 0.75611051 0.73243959 0.74967352 0.73285029 0.73581336\n",
      " 0.75355064 0.74829305 0.74406323 0.75122456 0.75955331 0.77602347\n",
      " 0.77457906 0.75580969 0.76829666 0.76728551 0.75579383 0.75803384\n",
      " 0.75218944 0.75603128 0.75355064 0.75648998 0.75271877 0.77341917\n",
      " 0.766543   0.76985787 0.7580653  0.75888074 0.76236375 0.78392265\n",
      " 0.79158536 0.78411833 0.78747979 0.80276831 0.79352884 0.78477313\n",
      " 0.77804924 0.78120645 0.7670434  0.76025478 0.73233697 0.72150024\n",
      " 0.71957078 0.75482573 0.7701717  0.76042611 0.71813082 0.7026316\n",
      " 0.66717361 0.70888873 0.71757846 0.72844369 0.71036188 0.72608001\n",
      " 0.72642862 0.71582662 0.71802395 0.72780204 0.73407969 0.70998041\n",
      " 0.6887177  0.68896496 0.71442694 0.71074308 0.73752104 0.74369953\n",
      " 0.76636096 0.76399503 0.77513467 0.77882535 0.77558683 0.76695229\n",
      " 0.77094703 0.77493011 0.77050015 0.76670984 0.76384165 0.7668615\n",
      " 0.75883396 0.75617388 0.73916946 0.76348844 0.76379567 0.77172003\n",
      " 0.78904947 0.79170565 0.79013304 0.79525347 0.79482071]\n"
     ]
    }
   ],
   "source": [
    "test=[]\n",
    "test= svr.predict(testX)\n",
    "print(test)"
   ]
  },
  {
   "cell_type": "code",
   "execution_count": 135,
   "metadata": {},
   "outputs": [
    {
     "data": {
      "text/plain": [
       "0.11109011037310307"
      ]
     },
     "execution_count": 135,
     "metadata": {},
     "output_type": "execute_result"
    }
   ],
   "source": [
    "from sklearn.metrics import mean_squared_error\n",
    "math.sqrt(mean_squared_error(test,testY))"
   ]
  },
  {
   "cell_type": "code",
   "execution_count": 136,
   "metadata": {},
   "outputs": [
    {
     "data": {
      "image/png": "[encoded data removed]",
      "text/plain": [
       "<Figure size 432x288 with 1 Axes>"
      ]
     },
     "metadata": {
      "needs_background": "light"
     },
     "output_type": "display_data"
    }
   ],
   "source": [
    "plt.plot(test,color=\"blue\")\n",
    "plt.plot(testY,color='red')\n",
    "plt.show()"
   ]
  },
  {
   "cell_type": "markdown",
   "metadata": {},
   "source": [
    "## K Neighbors Regressor"
   ]
  },
  {
   "cell_type": "code",
   "execution_count": 137,
   "metadata": {},
   "outputs": [],
   "source": [
    "from sklearn.neighbors import KNeighborsRegressor\n",
    "neigh = KNeighborsRegressor(n_neighbors=2)\n",
    "neigh.fit(testX, testY)\n",
    "test=neigh.predict(testX)"
   ]
  },
  {
   "cell_type": "code",
   "execution_count": 138,
   "metadata": {},
   "outputs": [
    {
     "name": "stdout",
     "output_type": "stream",
     "text": [
      "[0.44664598 0.43707147 0.44035226 0.43384424 0.4260373  0.42331898\n",
      " 0.42929134 0.4234082  0.42651492 0.42944756 0.42791426 0.41918117\n",
      " 0.42961717 0.4322329  0.4322329  0.430068   0.44085664 0.4467174\n",
      " 0.43384424 0.43881673 0.43881673 0.43431294 0.43332645 0.43249625\n",
      " 0.43234444 0.42929134 0.43868282 0.44029865 0.44414636 0.44664598\n",
      " 0.48723835 0.44008887 0.4411691  0.43891048 0.43088934 0.4292512\n",
      " 0.43868282 0.4411691  0.4448293  0.48960412 0.4448293  0.43891048\n",
      " 0.43933454 0.43275958 0.43574128 0.4296216  0.4325855  0.4260373\n",
      " 0.42812186 0.43550026 0.4296216  0.42117637 0.430068   0.41929275\n",
      " 0.39787617 0.4038619  0.39301974 0.39298847 0.38586897 0.37860662\n",
      " 0.39136374 0.39667547 0.40176404 0.40358964 0.39978218 0.40200505\n",
      " 0.41112876 0.40985215 0.4122357  0.41395426 0.41472644 0.40945935\n",
      " 0.4121732  0.402322   0.40518317 0.4096334  0.40485287 0.4096334\n",
      " 0.40739268 0.39787617 0.39894748 0.3973115  0.4008311  0.39759052\n",
      " 0.39556396 0.39825112 0.40246928 0.400965   0.40042937 0.39262694\n",
      " 0.39471143 0.39462218 0.39035046 0.38513243 0.38639116 0.3790574\n",
      " 0.38513243 0.38154817 0.36970162 0.36520672 0.3607654  0.36590752\n",
      " 0.36520672 0.38814986 0.39136374 0.3911941  0.38586897 0.39366698\n",
      " 0.39155567 0.38953358 0.38639116 0.38369516 0.37446433 0.36590752\n",
      " 0.3619572  0.35970306 0.3584175  0.3607654  0.3584175  0.36539868\n",
      " 0.364834   0.37062114 0.37062114 0.38814986 0.39155567 0.39532298\n",
      " 0.37679434 0.36970162 0.3797493  0.3797493  0.3872036  0.38154817\n",
      " 0.38860965 0.38473073 0.38088977 0.38180256 0.38369516 0.39337236\n",
      " 0.39667547 0.4011123  0.4007597  0.39692092 0.40176404 0.39657277\n",
      " 0.39263588 0.39310008 0.39471143 0.403911   0.41112876 0.41671276\n",
      " 0.42430764 0.42839634 0.42791426 0.4292512  0.4234082  0.42117637\n",
      " 0.410236   0.40745962 0.40515637 0.40300938 0.40456718 0.41390288\n",
      " 0.41423544 0.41176257 0.42087287 0.42087287 0.41918117 0.4139096\n",
      " 0.41176257 0.41101044 0.40515637 0.40023744 0.39493015 0.39457306\n",
      " 0.39759052 0.39968395 0.40078202 0.400657   0.39655048 0.39301974\n",
      " 0.39262694 0.3943811  0.3905156  0.3939348  0.3973115  0.3990635\n",
      " 0.4034825  0.41660118 0.42331898 0.41423544 0.40945935 0.40485287\n",
      " 0.40135336 0.4007597  0.4038106  0.39276975 0.39310008 0.39532298\n",
      " 0.39978218 0.39556396 0.3911941  0.39626926 0.4019158  0.39657277\n",
      " 0.39894748 0.4018265  0.40477696 0.4060536  0.40023744 0.4008311\n",
      " 0.40149617 0.40149617 0.40138015 0.4019158  0.40199167 0.4001303\n",
      " 0.402322   0.39493015 0.3905156  0.40241122 0.40477696 0.39688522\n",
      " 0.39825112 0.39276975 0.39968395 0.40202737 0.41477555 0.41101044\n",
      " 0.410236   0.40891474 0.40985215 0.4081247  0.40300938 0.39457306\n",
      " 0.39337236 0.39703256 0.403911   0.39670223 0.39688522 0.39263588\n",
      " 0.4038619  0.41477555 0.42944756 0.4399907  0.4399907  0.48723835\n",
      " 0.52350557 0.5314642  0.5334193  0.52592486 0.5021158  0.4902871\n",
      " 0.5018746  0.49512124 0.5078872  0.4993751  0.50723994 0.4993751\n",
      " 0.5078872  0.5021158  0.5050037  0.50020534 0.5148461  0.5291922\n",
      " 0.52746034 0.5224655  0.53033936 0.5214389  0.53033936 0.5214389\n",
      " 0.49805826 0.47381622 0.46852678 0.47858784 0.49803597 0.50479835\n",
      " 0.49512124 0.4760882  0.48598856 0.47097734 0.4780299  0.48598856\n",
      " 0.47381622 0.48853287 0.50008476 0.48769817 0.4991876  0.50295496\n",
      " 0.5075926  0.50552595 0.5089674  0.50190145 0.49465248 0.49465248\n",
      " 0.4902871  0.4826185  0.47305292 0.47305292 0.4780299  0.49459448\n",
      " 0.50723994 0.50552595 0.5047939  0.5050037  0.50190145 0.511717\n",
      " 0.5079274  0.52298325 0.5199257  0.5314642  0.5334193  0.52350557\n",
      " 0.5199257  0.51455146 0.5403558  0.56353104 0.5694409  0.5691151\n",
      " 0.57689524 0.57474375 0.5757793  0.57922524 0.58194804 0.5904558\n",
      " 0.5930893  0.586559   0.5854163  0.5894872  0.58700544 0.5806536\n",
      " 0.57223517 0.5840683  0.57742196 0.5848896  0.59675395 0.60094535\n",
      " 0.5978788  0.59561133 0.59866893 0.59733427 0.60412794 0.60831934\n",
      " 0.5926028  0.5978208  0.6040208  0.5972226  0.5992492  0.5892506\n",
      " 0.58382726 0.5840683  0.5892506  0.59636116 0.5978788  0.5900719\n",
      " 0.58705443 0.5930893  0.5930447  0.5930938  0.61310875 0.6137694\n",
      " 0.61668867 0.6156352  0.5926028  0.5887775  0.586559   0.5796047\n",
      " 0.5719316  0.5695525  0.57287353 0.55937093 0.56353104 0.5538003\n",
      " 0.5507829  0.55780417 0.55581784 0.5704319  0.55937093 0.5585586\n",
      " 0.5585586  0.57145846 0.58277386 0.5937009  0.59712    0.6032129\n",
      " 0.570664   0.55118465 0.5420609  0.5388203  0.5297591  0.54634154\n",
      " 0.542668   0.54634154 0.57145846 0.55828625 0.5670573  0.5554295\n",
      " 0.55444306 0.55970126 0.55088556 0.5643032  0.55684    0.56919545\n",
      " 0.56457555 0.56336594 0.5538003  0.55035436 0.5530102  0.5530102\n",
      " 0.55956733 0.56648153 0.57474375 0.58611715 0.5817561  0.5874651\n",
      " 0.5907459  0.5904558  0.5918217  0.58382726 0.58881766 0.5854163\n",
      " 0.5985885  0.6069043  0.5990617  0.60412794 0.59561133 0.58700544\n",
      " 0.5907459  0.5978208  0.59636116 0.5887775  0.5900719  0.59649956\n",
      " 0.59733427 0.60703826 0.5916253  0.60635084 0.60989946 0.5992581\n",
      " 0.5916253  0.57095414 0.56457555 0.55956733 0.5455872  0.54315007\n",
      " 0.54713607 0.5506356  0.5453774  0.5507115  0.5402621  0.55821043\n",
      " 0.5643032  0.56336594 0.5571704  0.5612234  0.55684    0.55035436\n",
      " 0.559362   0.55016243 0.5387132  0.55016243 0.56919545 0.57287353\n",
      " 0.57095414 0.57689524 0.57922524 0.58194804 0.58277386 0.56832504\n",
      " 0.5649505  0.55118465 0.5694409  0.5694231  0.56176794 0.5642274\n",
      " 0.55828625 0.5642274  0.56648153 0.55105066 0.5388203  0.542668\n",
      " 0.54354286 0.5507829  0.5402621  0.5224655  0.5403558  0.52746034\n",
      " 0.52592486 0.5420609  0.544449   0.54315007 0.54354286 0.55143905\n",
      " 0.56204015 0.5704319  0.56526744 0.5691865  0.5649505  0.5752794\n",
      " 0.5930179  0.5905183  0.58705443 0.58809453 0.5796047  0.5900719\n",
      " 0.5877687  0.5918217  0.61310875 0.62229496 0.6312803  0.625665\n",
      " 0.61863923 0.62647295 0.6368286  0.6294681  0.63215965 0.63170886\n",
      " 0.6316151  0.6298966  0.6166351  0.62869585 0.62096035 0.62529457\n",
      " 0.6257856  0.6269595  0.6256249  0.61668867 0.62229496 0.6191526\n",
      " 0.621197   0.6182152  0.61024314 0.6239242  0.6269595  0.6297359\n",
      " 0.6297359  0.6163896  0.6164253  0.61863923 0.6201167  0.6156352\n",
      " 0.6253704  0.62593734 0.62902176 0.6257856  0.6353601  0.6359716\n",
      " 0.6315303  0.63150346 0.6305706  0.6285262  0.63150346 0.62712467\n",
      " 0.625665   0.62529457 0.6253704  0.62184864 0.6312803  0.6303563\n",
      " 0.63363713 0.6292181  0.62712467 0.62924045 0.6368286  0.64773333\n",
      " 0.6461666  0.64773333 0.652987   0.65082663 0.6485769  0.6433857\n",
      " 0.64061826 0.6363064  0.63292736 0.62096035 0.6164253  0.6137694\n",
      " 0.6032129  0.6320614  0.6292181  0.610935   0.60594904 0.5930358\n",
      " 0.5930179  0.5992492  0.5909468  0.609462   0.6021952  0.60883266\n",
      " 0.60883266 0.6040208  0.60594904 0.609462   0.61024314 0.6021952\n",
      " 0.59649956 0.5993162  0.5961648  0.60989946 0.6213487  0.62902176\n",
      " 0.6336818  0.6330167  0.6383329  0.64061826 0.6359716  0.6325212\n",
      " 0.6360073  0.6383329  0.63171774 0.6304233  0.6350789  0.6325212\n",
      " 0.62924045 0.6163896  0.62375015 0.63215965 0.6350789  0.6429394\n",
      " 0.6503624  0.6461666  0.6503624  0.65189344 0.65189344]\n"
     ]
    }
   ],
   "source": [
    "test=[]\n",
    "test= neigh.predict(testX)\n",
    "print(test)"
   ]
  },
  {
   "cell_type": "code",
   "execution_count": 139,
   "metadata": {},
   "outputs": [
    {
     "data": {
      "text/plain": [
       "0.00642871962794731"
      ]
     },
     "execution_count": 139,
     "metadata": {},
     "output_type": "execute_result"
    }
   ],
   "source": [
    "from sklearn.metrics import mean_squared_error\n",
    "math.sqrt(mean_squared_error(test,testY))"
   ]
  },
  {
   "cell_type": "code",
   "execution_count": 140,
   "metadata": {},
   "outputs": [
    {
     "data": {
      "image/png": "[encoded data removed]",
      "text/plain": [
       "<Figure size 432x288 with 1 Axes>"
      ]
     },
     "metadata": {
      "needs_background": "light"
     },
     "output_type": "display_data"
    }
   ],
   "source": [
    "plt.plot(test,color=\"blue\")\n",
    "plt.plot(testY,color='red')\n",
    "plt.show()"
   ]
  },
  {
   "cell_type": "markdown",
   "metadata": {},
   "source": [
    "After evaluation of five regression models using the Root Mean Squared Error metric (RMSE), we have come to the conclusion that the best model for prediction is the K Nearest Neighbor whcih has the lowest value for RMSE with 0.00642872."
   ]
  }
 ],
 "metadata": {
  "kernelspec": {
   "display_name": "Python 3",
   "language": "python",
   "name": "python3"
  },
  "language_info": {
   "codemirror_mode": {
    "name": "ipython",
    "version": 3
   },
   "file_extension": ".py",
   "mimetype": "text/x-python",
   "name": "python",
   "nbconvert_exporter": "python",
   "pygments_lexer": "ipython3",
   "version": "3.7.5"
  }
 },
 "nbformat": 4,
 "nbformat_minor": 4
}
